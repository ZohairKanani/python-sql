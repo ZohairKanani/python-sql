{
 "cells": [
  {
   "cell_type": "markdown",
   "metadata": {},
   "source": [
    "Go through the basics of creating a Python script, and then create a Python file for the script to run it on the terminal. In this practice notebook, you'll create the building blocks for a script that finds large files on the filesytem"
   ]
  },
  {
   "cell_type": "markdown",
   "metadata": {},
   "source": [
    "## Get the logic right \n",
    "Start by defining some of the requirements of the script. In this case, we need to:\n",
    "- _Walk_ the filesystem looking at files, directories and sub-directories\n",
    "- Capture file information: is it a file? a directory? what size? what path?\n",
    "- Store that information in a suitable data structure\n",
    "- Report the sorted data what are the largest files by looking at the data structure"
   ]
  },
  {
   "cell_type": "code",
   "execution_count": 1,
   "metadata": {},
   "outputs": [
    {
     "name": "stdout",
     "output_type": "stream",
     "text": [
      "File found: .gitignore\n",
      "File found: exercise.ipynb\n",
      "File found: looping-data-structures.ipynb\n",
      "File found: mod2lab.ipynb\n",
      "File found: README.md\n",
      "File found: serializing-json.ipynb\n",
      "File found: COMMIT_EDITMSG\n",
      "File found: config\n",
      "File found: description\n",
      "File found: HEAD\n",
      "File found: index\n",
      "File found: packed-refs\n",
      "File found: applypatch-msg.sample\n",
      "File found: commit-msg.sample\n",
      "File found: fsmonitor-watchman.sample\n",
      "File found: post-update.sample\n",
      "File found: pre-applypatch.sample\n",
      "File found: pre-commit.sample\n",
      "File found: pre-merge-commit.sample\n",
      "File found: pre-push.sample\n",
      "File found: pre-rebase.sample\n",
      "File found: pre-receive.sample\n",
      "File found: prepare-commit-msg.sample\n",
      "File found: push-to-checkout.sample\n",
      "File found: sendemail-validate.sample\n",
      "File found: update.sample\n",
      "File found: exclude\n",
      "File found: HEAD\n",
      "File found: main\n",
      "File found: HEAD\n",
      "File found: main\n",
      "File found: 894156513acc829f0b8ed6a23ea4b2832abb71\n",
      "File found: f016b7832b48ac5ee341c7a7d30634f42ba686\n",
      "File found: dd47032f47c0e08321060b9effd29aaf771c75\n",
      "File found: 80d8d875c852f9a07651807033bb2675f10e82\n",
      "File found: 94fcc6e6a6197f722a4faf9a834feb3b0ff911\n",
      "File found: pack-e3b39e4061414c0d38753fee95ae2dd18980cefb.idx\n",
      "File found: pack-e3b39e4061414c0d38753fee95ae2dd18980cefb.pack\n",
      "File found: pack-e3b39e4061414c0d38753fee95ae2dd18980cefb.rev\n",
      "File found: main\n",
      "File found: HEAD\n",
      "File found: main\n",
      "File found: generate_sql.py\n",
      "File found: populate.sql\n",
      "File found: ratingabove98.json\n",
      "File found: wine-ratings-small.csv\n",
      "File found: wine-ratings.csv\n",
      "File found: wine-ratings.json\n"
     ]
    }
   ],
   "source": [
    "# The os module is perfect for filesystem operations like \"walking\" throught directories and files\n",
    "# Although there are many ways of achieving the same effect, a good way to loop over the filesystem is using `os.walk()`\n",
    "import os\n",
    "for root, directories, files in os.walk('.'):\n",
    "    for _file in files:\n",
    "        print(f\"File found: {_file}\")\n"
   ]
  },
  {
   "cell_type": "code",
   "execution_count": 2,
   "metadata": {},
   "outputs": [
    {
     "name": "stdout",
     "output_type": "stream",
     "text": [
      "File found: .\\.gitignore\n",
      "File found: .\\exercise.ipynb\n",
      "File found: .\\looping-data-structures.ipynb\n",
      "File found: .\\mod2lab.ipynb\n",
      "File found: .\\README.md\n",
      "File found: .\\serializing-json.ipynb\n",
      "File found: .\\.git\\COMMIT_EDITMSG\n",
      "File found: .\\.git\\config\n",
      "File found: .\\.git\\description\n",
      "File found: .\\.git\\HEAD\n",
      "File found: .\\.git\\index\n",
      "File found: .\\.git\\packed-refs\n",
      "File found: .\\.git\\hooks\\applypatch-msg.sample\n",
      "File found: .\\.git\\hooks\\commit-msg.sample\n",
      "File found: .\\.git\\hooks\\fsmonitor-watchman.sample\n",
      "File found: .\\.git\\hooks\\post-update.sample\n",
      "File found: .\\.git\\hooks\\pre-applypatch.sample\n",
      "File found: .\\.git\\hooks\\pre-commit.sample\n",
      "File found: .\\.git\\hooks\\pre-merge-commit.sample\n",
      "File found: .\\.git\\hooks\\pre-push.sample\n",
      "File found: .\\.git\\hooks\\pre-rebase.sample\n",
      "File found: .\\.git\\hooks\\pre-receive.sample\n",
      "File found: .\\.git\\hooks\\prepare-commit-msg.sample\n",
      "File found: .\\.git\\hooks\\push-to-checkout.sample\n",
      "File found: .\\.git\\hooks\\sendemail-validate.sample\n",
      "File found: .\\.git\\hooks\\update.sample\n",
      "File found: .\\.git\\info\\exclude\n",
      "File found: .\\.git\\logs\\HEAD\n",
      "File found: .\\.git\\logs\\refs\\heads\\main\n",
      "File found: .\\.git\\logs\\refs\\remotes\\origin\\HEAD\n",
      "File found: .\\.git\\logs\\refs\\remotes\\origin\\main\n",
      "File found: .\\.git\\objects\\3b\\894156513acc829f0b8ed6a23ea4b2832abb71\n",
      "File found: .\\.git\\objects\\49\\f016b7832b48ac5ee341c7a7d30634f42ba686\n",
      "File found: .\\.git\\objects\\58\\dd47032f47c0e08321060b9effd29aaf771c75\n",
      "File found: .\\.git\\objects\\e6\\80d8d875c852f9a07651807033bb2675f10e82\n",
      "File found: .\\.git\\objects\\f9\\94fcc6e6a6197f722a4faf9a834feb3b0ff911\n",
      "File found: .\\.git\\objects\\pack\\pack-e3b39e4061414c0d38753fee95ae2dd18980cefb.idx\n",
      "File found: .\\.git\\objects\\pack\\pack-e3b39e4061414c0d38753fee95ae2dd18980cefb.pack\n",
      "File found: .\\.git\\objects\\pack\\pack-e3b39e4061414c0d38753fee95ae2dd18980cefb.rev\n",
      "File found: .\\.git\\refs\\heads\\main\n",
      "File found: .\\.git\\refs\\remotes\\origin\\HEAD\n",
      "File found: .\\.git\\refs\\remotes\\origin\\main\n",
      "File found: .\\sample_data\\generate_sql.py\n",
      "File found: .\\sample_data\\populate.sql\n",
      "File found: .\\sample_data\\ratingabove98.json\n",
      "File found: .\\sample_data\\wine-ratings-small.csv\n",
      "File found: .\\sample_data\\wine-ratings.csv\n",
      "File found: .\\sample_data\\wine-ratings.json\n"
     ]
    }
   ],
   "source": [
    "# Update the loop so that it shows the absolute path of a file ignoring directories which we aren't going to track\n",
    "for root, directories, files in os.walk('.'):\n",
    "    for _file in files:\n",
    "        full_path = os.path.join(root, _file)\n",
    "        print(f\"File found: {full_path}\")\n"
   ]
  },
  {
   "cell_type": "markdown",
   "metadata": {},
   "source": [
    "So now we have a few objectives completed:\n",
    "- Files are detected\n",
    "- Full paths are being collected\n",
    "\n",
    "Next, we need to find size information. Python uses bytes by default for size, so in addition to capturing the size, we'll need to find a way to change bytes to megabytes or gigabytes to make it easier to read"
   ]
  },
  {
   "cell_type": "code",
   "execution_count": 3,
   "metadata": {},
   "outputs": [
    {
     "name": "stdout",
     "output_type": "stream",
     "text": [
      "Size: 1928b - File: .\\.gitignore\n",
      "Size: 60129b - File: .\\exercise.ipynb\n",
      "Size: 29011b - File: .\\looping-data-structures.ipynb\n",
      "Size: 12257b - File: .\\mod2lab.ipynb\n",
      "Size: 1041b - File: .\\README.md\n",
      "Size: 9131b - File: .\\serializing-json.ipynb\n",
      "Size: 11b - File: .\\.git\\COMMIT_EDITMSG\n",
      "Size: 338b - File: .\\.git\\config\n",
      "Size: 73b - File: .\\.git\\description\n",
      "Size: 21b - File: .\\.git\\HEAD\n",
      "Size: 1094b - File: .\\.git\\index\n",
      "Size: 112b - File: .\\.git\\packed-refs\n",
      "Size: 478b - File: .\\.git\\hooks\\applypatch-msg.sample\n",
      "Size: 896b - File: .\\.git\\hooks\\commit-msg.sample\n",
      "Size: 4726b - File: .\\.git\\hooks\\fsmonitor-watchman.sample\n",
      "Size: 189b - File: .\\.git\\hooks\\post-update.sample\n",
      "Size: 424b - File: .\\.git\\hooks\\pre-applypatch.sample\n",
      "Size: 1649b - File: .\\.git\\hooks\\pre-commit.sample\n",
      "Size: 416b - File: .\\.git\\hooks\\pre-merge-commit.sample\n",
      "Size: 1374b - File: .\\.git\\hooks\\pre-push.sample\n",
      "Size: 4898b - File: .\\.git\\hooks\\pre-rebase.sample\n",
      "Size: 544b - File: .\\.git\\hooks\\pre-receive.sample\n",
      "Size: 1492b - File: .\\.git\\hooks\\prepare-commit-msg.sample\n",
      "Size: 2783b - File: .\\.git\\hooks\\push-to-checkout.sample\n",
      "Size: 2308b - File: .\\.git\\hooks\\sendemail-validate.sample\n",
      "Size: 3650b - File: .\\.git\\hooks\\update.sample\n",
      "Size: 240b - File: .\\.git\\info\\exclude\n",
      "Size: 354b - File: .\\.git\\logs\\HEAD\n",
      "Size: 354b - File: .\\.git\\logs\\refs\\heads\\main\n",
      "Size: 197b - File: .\\.git\\logs\\refs\\remotes\\origin\\HEAD\n",
      "Size: 153b - File: .\\.git\\logs\\refs\\remotes\\origin\\main\n",
      "Size: 250b - File: .\\.git\\objects\\3b\\894156513acc829f0b8ed6a23ea4b2832abb71\n",
      "Size: 16313b - File: .\\.git\\objects\\49\\f016b7832b48ac5ee341c7a7d30634f42ba686\n",
      "Size: 229b - File: .\\.git\\objects\\58\\dd47032f47c0e08321060b9effd29aaf771c75\n",
      "Size: 160b - File: .\\.git\\objects\\e6\\80d8d875c852f9a07651807033bb2675f10e82\n",
      "Size: 166b - File: .\\.git\\objects\\f9\\94fcc6e6a6197f722a4faf9a834feb3b0ff911\n",
      "Size: 2276b - File: .\\.git\\objects\\pack\\pack-e3b39e4061414c0d38753fee95ae2dd18980cefb.idx\n",
      "Size: 3335423b - File: .\\.git\\objects\\pack\\pack-e3b39e4061414c0d38753fee95ae2dd18980cefb.pack\n",
      "Size: 224b - File: .\\.git\\objects\\pack\\pack-e3b39e4061414c0d38753fee95ae2dd18980cefb.rev\n",
      "Size: 41b - File: .\\.git\\refs\\heads\\main\n",
      "Size: 30b - File: .\\.git\\refs\\remotes\\origin\\HEAD\n",
      "Size: 41b - File: .\\.git\\refs\\remotes\\origin\\main\n",
      "Size: 331b - File: .\\sample_data\\generate_sql.py\n",
      "Size: 104305b - File: .\\sample_data\\populate.sql\n",
      "Size: 341b - File: .\\sample_data\\ratingabove98.json\n",
      "Size: 315675b - File: .\\sample_data\\wine-ratings-small.csv\n",
      "Size: 13551615b - File: .\\sample_data\\wine-ratings.csv\n",
      "Size: 355744b - File: .\\sample_data\\wine-ratings.json\n"
     ]
    }
   ],
   "source": [
    "# Update the loop to include the file size\n",
    "for root, directories, files in os.walk('.'):\n",
    "    for _file in files:\n",
    "        full_path = os.path.join(root, _file)\n",
    "        size = os.path.getsize(full_path)\n",
    "        print(f\"Size: {size}b - File: {full_path}\")"
   ]
  },
  {
   "cell_type": "code",
   "execution_count": 4,
   "metadata": {},
   "outputs": [
    {
     "name": "stdout",
     "output_type": "stream",
     "text": [
      "{'.\\\\.gitignore': 1928, '.\\\\exercise.ipynb': 60129, '.\\\\looping-data-structures.ipynb': 29011, '.\\\\mod2lab.ipynb': 12257, '.\\\\README.md': 1041, '.\\\\serializing-json.ipynb': 9131, '.\\\\.git\\\\COMMIT_EDITMSG': 11, '.\\\\.git\\\\config': 338, '.\\\\.git\\\\description': 73, '.\\\\.git\\\\HEAD': 21, '.\\\\.git\\\\index': 1094, '.\\\\.git\\\\packed-refs': 112, '.\\\\.git\\\\hooks\\\\applypatch-msg.sample': 478, '.\\\\.git\\\\hooks\\\\commit-msg.sample': 896, '.\\\\.git\\\\hooks\\\\fsmonitor-watchman.sample': 4726, '.\\\\.git\\\\hooks\\\\post-update.sample': 189, '.\\\\.git\\\\hooks\\\\pre-applypatch.sample': 424, '.\\\\.git\\\\hooks\\\\pre-commit.sample': 1649, '.\\\\.git\\\\hooks\\\\pre-merge-commit.sample': 416, '.\\\\.git\\\\hooks\\\\pre-push.sample': 1374, '.\\\\.git\\\\hooks\\\\pre-rebase.sample': 4898, '.\\\\.git\\\\hooks\\\\pre-receive.sample': 544, '.\\\\.git\\\\hooks\\\\prepare-commit-msg.sample': 1492, '.\\\\.git\\\\hooks\\\\push-to-checkout.sample': 2783, '.\\\\.git\\\\hooks\\\\sendemail-validate.sample': 2308, '.\\\\.git\\\\hooks\\\\update.sample': 3650, '.\\\\.git\\\\info\\\\exclude': 240, '.\\\\.git\\\\logs\\\\HEAD': 354, '.\\\\.git\\\\logs\\\\refs\\\\heads\\\\main': 354, '.\\\\.git\\\\logs\\\\refs\\\\remotes\\\\origin\\\\HEAD': 197, '.\\\\.git\\\\logs\\\\refs\\\\remotes\\\\origin\\\\main': 153, '.\\\\.git\\\\objects\\\\3b\\\\894156513acc829f0b8ed6a23ea4b2832abb71': 250, '.\\\\.git\\\\objects\\\\49\\\\f016b7832b48ac5ee341c7a7d30634f42ba686': 16313, '.\\\\.git\\\\objects\\\\58\\\\dd47032f47c0e08321060b9effd29aaf771c75': 229, '.\\\\.git\\\\objects\\\\e6\\\\80d8d875c852f9a07651807033bb2675f10e82': 160, '.\\\\.git\\\\objects\\\\f9\\\\94fcc6e6a6197f722a4faf9a834feb3b0ff911': 166, '.\\\\.git\\\\objects\\\\pack\\\\pack-e3b39e4061414c0d38753fee95ae2dd18980cefb.idx': 2276, '.\\\\.git\\\\objects\\\\pack\\\\pack-e3b39e4061414c0d38753fee95ae2dd18980cefb.pack': 3335423, '.\\\\.git\\\\objects\\\\pack\\\\pack-e3b39e4061414c0d38753fee95ae2dd18980cefb.rev': 224, '.\\\\.git\\\\refs\\\\heads\\\\main': 41, '.\\\\.git\\\\refs\\\\remotes\\\\origin\\\\HEAD': 30, '.\\\\.git\\\\refs\\\\remotes\\\\origin\\\\main': 41, '.\\\\sample_data\\\\generate_sql.py': 331, '.\\\\sample_data\\\\populate.sql': 104305, '.\\\\sample_data\\\\ratingabove98.json': 341, '.\\\\sample_data\\\\wine-ratings-small.csv': 315675, '.\\\\sample_data\\\\wine-ratings.csv': 13551615, '.\\\\sample_data\\\\wine-ratings.json': 355744}\n"
     ]
    }
   ],
   "source": [
    "# Persist the data into a dictionary. Since file paths are unique you can use those as dictionary keys\n",
    "file_metadata = {}\n",
    "for root, directories, files in os.walk('.'):\n",
    "    for _file in files:\n",
    "        full_path = os.path.join(root, _file)\n",
    "        size = os.path.getsize(full_path)\n",
    "        file_metadata[full_path] = size\n",
    "print(file_metadata)"
   ]
  },
  {
   "cell_type": "markdown",
   "metadata": {},
   "source": [
    "**Exercise:** Now that the metadata is captured and stored in a suitable data structure like a dictionary, report back the results with only the four largest files. Try using other quantities to report on, like the 10 largest files instead of 4."
   ]
  },
  {
   "cell_type": "code",
   "execution_count": 7,
   "metadata": {},
   "outputs": [
    {
     "name": "stdout",
     "output_type": "stream",
     "text": [
      "Size: 11 Path: .\\.git\\COMMIT_EDITMSG\n",
      "Size: 21 Path: .\\.git\\HEAD\n",
      "Size: 30 Path: .\\.git\\refs\\remotes\\origin\\HEAD\n",
      "Size: 41 Path: .\\.git\\refs\\heads\\main\n"
     ]
    }
   ],
   "source": [
    "items_shown = 0\n",
    "    \n",
    "for path, size in sorted(file_metadata.items(), key=lambda x:x[1], reverse=False):\n",
    "    if items_shown > 3:\n",
    "        break\n",
    "    print(f\"Size: {size} Path: {path}\")\n",
    "    items_shown += 1\n"
   ]
  },
  {
   "cell_type": "markdown",
   "metadata": {},
   "source": [
    "There is a lot happening in the previous cell. `sorted()` is a built-in function that can sort iterables like Python dictionaries. In this case, we need to sort by the _value_. This is done using the `key` parameter which accepts a `lambda`.\n",
    "`lambda` allows to represent a function in a single line without defining it. That `lambda` expression is the same as defining a function like:\n",
    "\n",
    "```python\n",
    "def by_value(x):\n",
    "    return x[1]\n",
    "```\n",
    "\n",
    "`x` represents two items, the path and the size. The function is returning only the size because that is what we want to sort with. Try changing the `lambda` expression to use `x[0]` instead and see what happens.\n",
    "\n",
    "**Exercise:** Try using a function instead of a `lambda` function and achieve the same result"
   ]
  },
  {
   "cell_type": "markdown",
   "metadata": {},
   "source": []
  },
  {
   "cell_type": "markdown",
   "metadata": {},
   "source": []
  }
 ],
 "metadata": {
  "interpreter": {
   "hash": "904aaa8d64bef68f2ffda03272599bba12aa237240eb8594526423b3c4f1b9a0"
  },
  "kernelspec": {
   "display_name": "Python 3",
   "language": "python",
   "name": "python3"
  },
  "language_info": {
   "codemirror_mode": {
    "name": "ipython",
    "version": 3
   },
   "file_extension": ".py",
   "mimetype": "text/x-python",
   "name": "python",
   "nbconvert_exporter": "python",
   "pygments_lexer": "ipython3",
   "version": "3.11.9"
  }
 },
 "nbformat": 4,
 "nbformat_minor": 2
}
